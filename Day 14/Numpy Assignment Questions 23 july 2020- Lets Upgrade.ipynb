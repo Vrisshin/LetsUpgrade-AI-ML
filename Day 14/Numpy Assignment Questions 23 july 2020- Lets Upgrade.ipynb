{
 "cells": [
  {
   "cell_type": "code",
   "execution_count": 2,
   "metadata": {},
   "outputs": [],
   "source": [
    "import pandas as pd\n",
    "import numpy as np\n"
   ]
  },
  {
   "cell_type": "markdown",
   "metadata": {},
   "source": [
    "# 1. Create a 3x3x3 array with random values "
   ]
  },
  {
   "cell_type": "code",
   "execution_count": 3,
   "metadata": {},
   "outputs": [
    {
     "data": {
      "text/plain": [
       "array([[[6.23042070e-307, 4.67296746e-307, 1.69121096e-306],\n",
       "        [1.11261434e-306, 1.11260755e-306, 2.33644299e-307],\n",
       "        [3.44900708e-307, 3.00394647e-307, 2.55897754e-307]],\n",
       "\n",
       "       [[1.33511018e-306, 1.33511969e-306, 6.23037996e-307],\n",
       "        [6.23053954e-307, 9.34609790e-307, 8.45593934e-307],\n",
       "        [9.34600963e-307, 7.56601165e-307, 1.69118787e-306]],\n",
       "\n",
       "       [[1.60220393e-306, 1.37961302e-306, 1.78021798e-306],\n",
       "        [1.37961709e-306, 6.89805151e-307, 1.78020169e-306],\n",
       "        [1.42410974e-306, 2.56761491e-312, 3.08707478e+175]]])"
      ]
     },
     "execution_count": 3,
     "metadata": {},
     "output_type": "execute_result"
    }
   ],
   "source": [
    "arr=np.empty((3,3,3))\n",
    "arr"
   ]
  },
  {
   "cell_type": "markdown",
   "metadata": {},
   "source": [
    "# 2.Create a 5x5 matrix with values 1,2,3,4 just below the diagonal"
   ]
  },
  {
   "cell_type": "code",
   "execution_count": 4,
   "metadata": {},
   "outputs": [
    {
     "data": {
      "text/plain": [
       "array([[0, 0, 0, 0, 0],\n",
       "       [1, 0, 0, 0, 0],\n",
       "       [0, 2, 0, 0, 0],\n",
       "       [0, 0, 3, 0, 0],\n",
       "       [0, 0, 0, 4, 0]])"
      ]
     },
     "execution_count": 4,
     "metadata": {},
     "output_type": "execute_result"
    }
   ],
   "source": [
    "arr = np.diag(np.arange(4)+ 1 ,k=-1)\n",
    "arr"
   ]
  },
  {
   "cell_type": "markdown",
   "metadata": {},
   "source": [
    "# 3.Create a 8x8 matrix and fill it with a checkerboard pattern"
   ]
  },
  {
   "cell_type": "code",
   "execution_count": 5,
   "metadata": {},
   "outputs": [
    {
     "data": {
      "text/plain": [
       "array([[0, 1, 0, 1, 0, 1, 0, 1],\n",
       "       [1, 0, 1, 0, 1, 0, 1, 0],\n",
       "       [0, 1, 0, 1, 0, 1, 0, 1],\n",
       "       [1, 0, 1, 0, 1, 0, 1, 0],\n",
       "       [0, 1, 0, 1, 0, 1, 0, 1],\n",
       "       [1, 0, 1, 0, 1, 0, 1, 0],\n",
       "       [0, 1, 0, 1, 0, 1, 0, 1],\n",
       "       [1, 0, 1, 0, 1, 0, 1, 0]])"
      ]
     },
     "execution_count": 5,
     "metadata": {},
     "output_type": "execute_result"
    }
   ],
   "source": [
    "arr_checkboard = np.tile(np.array([[0,1],[1,0]]), (4,4))\n",
    "arr_checkboard"
   ]
  },
  {
   "cell_type": "markdown",
   "metadata": {},
   "source": [
    "# 4. Normalize a 5x5 random matrix"
   ]
  },
  {
   "cell_type": "code",
   "execution_count": 6,
   "metadata": {},
   "outputs": [
    {
     "name": "stdout",
     "output_type": "stream",
     "text": [
      "[[0.31676126 0.68771646 0.37995563]\n",
      " [0.98039474 0.79730315 0.41766608]\n",
      " [0.66624607 0.8114927  0.70402819]]\n",
      "[[0.         0.55897602 0.09522481]\n",
      " [1.         0.72410736 0.15204902]\n",
      " [0.52662324 0.74548897 0.58355545]]\n"
     ]
    }
   ],
   "source": [
    "x= np.random.random((3,3))\n",
    "print(x)\n",
    "xmax, xmin = x.max(), x.min()\n",
    "x = (x - xmin)/(xmax - xmin)\n",
    "print(x)"
   ]
  },
  {
   "cell_type": "markdown",
   "metadata": {},
   "source": [
    "# 5.  How to find common values between two arrays?"
   ]
  },
  {
   "cell_type": "code",
   "execution_count": 7,
   "metadata": {},
   "outputs": [
    {
     "data": {
      "text/plain": [
       "array([2, 5])"
      ]
     },
     "execution_count": 7,
     "metadata": {},
     "output_type": "execute_result"
    }
   ],
   "source": [
    "arr1 = np.array([2,4,5,7,9])\n",
    "arr2 = np.array([2,5,3,8,10])\n",
    "\n",
    "np.intersect1d(arr1, arr2)"
   ]
  },
  {
   "cell_type": "markdown",
   "metadata": {},
   "source": [
    "# 6.How to get the dates of yesterday, today and tomorrow?"
   ]
  },
  {
   "cell_type": "code",
   "execution_count": 8,
   "metadata": {},
   "outputs": [
    {
     "name": "stdout",
     "output_type": "stream",
     "text": [
      "2020-08-01 2020-08-02 2020-08-03\n"
     ]
    }
   ],
   "source": [
    "\n",
    "yesterday = np.datetime64(\"today\") - np.timedelta64(1)\n",
    "today     = np.datetime64(\"today\")\n",
    "tomorrow  = np.datetime64(\"today\") + np.timedelta64(1)\n",
    "print(yesterday, today, tomorrow)"
   ]
  },
  {
   "cell_type": "markdown",
   "metadata": {},
   "source": [
    "# 7. Consider two random array A and B, check if they are equal"
   ]
  },
  {
   "cell_type": "code",
   "execution_count": 9,
   "metadata": {},
   "outputs": [
    {
     "name": "stdout",
     "output_type": "stream",
     "text": [
      "[[0.         0.55897602 0.09522481]\n",
      " [1.         0.72410736 0.15204902]\n",
      " [0.52662324 0.74548897 0.58355545]]\n",
      "[[0.         0.3709552  0.06319437]\n",
      " [0.66363348 0.48054189 0.10090482]\n",
      " [0.34948481 0.49473144 0.38726693]]\n",
      "False\n"
     ]
    }
   ],
   "source": [
    "arr1 = np.empty((3,3))\n",
    "arr2 = np.empty((3,3))\n",
    "print(arr1)\n",
    "print(arr2)\n",
    "equal = np.array_equal(arr1,arr2)\n",
    "print(equal)"
   ]
  },
  {
   "cell_type": "markdown",
   "metadata": {},
   "source": [
    "# 8.Create random vector of size 10 and replace the maximum value by 0 "
   ]
  },
  {
   "cell_type": "code",
   "execution_count": 10,
   "metadata": {},
   "outputs": [
    {
     "name": "stdout",
     "output_type": "stream",
     "text": [
      "[0.5753475  0.1048343  0.63083351 0.97077429 0.28342658 0.53828456\n",
      " 0.4013395  0.78897939 0.10439672 0.80725636]\n",
      "   \n",
      "[0.5753475  0.1048343  0.63083351 0.         0.28342658 0.53828456\n",
      " 0.4013395  0.78897939 0.10439672 0.80725636]\n"
     ]
    }
   ],
   "source": [
    "arr = np.random.random(10)\n",
    "print(arr)\n",
    "arr[arr.argmax()] = 0\n",
    "print(\"   \")\n",
    "print(arr)"
   ]
  },
  {
   "cell_type": "markdown",
   "metadata": {},
   "source": [
    "# 9. How to print all the values of an array?"
   ]
  },
  {
   "cell_type": "code",
   "execution_count": 11,
   "metadata": {},
   "outputs": [
    {
     "name": "stdout",
     "output_type": "stream",
     "text": [
      "[[0. 0. 0. 0.]\n",
      " [0. 0. 0. 0.]\n",
      " [0. 0. 0. 0.]\n",
      " [0. 0. 0. 0.]]\n"
     ]
    }
   ],
   "source": [
    "arr=np.zeros((4,4))\n",
    "print(arr)"
   ]
  },
  {
   "cell_type": "markdown",
   "metadata": {},
   "source": [
    "# 10.Subtract the mean of each row of a matrix"
   ]
  },
  {
   "cell_type": "code",
   "execution_count": 12,
   "metadata": {},
   "outputs": [
    {
     "name": "stdout",
     "output_type": "stream",
     "text": [
      "[[0.2673507  0.36614487 0.80599608 0.65826372 0.01673615]\n",
      " [0.84436617 0.11165718 0.16956794 0.03774335 0.79661951]\n",
      " [0.17368069 0.55670927 0.51778052 0.47420202 0.60590888]\n",
      " [0.47110102 0.17272423 0.42116293 0.62900333 0.72861966]]\n",
      " \n",
      "[[-0.1555476  -0.05675344  0.38309777  0.23536542 -0.40616215]\n",
      " [ 0.45237534 -0.28033365 -0.22242289 -0.35424748  0.40462868]\n",
      " [-0.29197558  0.091053    0.05212424  0.00854574  0.1402526 ]\n",
      " [-0.01342121 -0.311798   -0.06335931  0.1444811   0.24409743]]\n"
     ]
    }
   ],
   "source": [
    "arr = np.random.rand(4,5)\n",
    "arr2 = arr - arr.mean(axis=1, keepdims=True)\n",
    "print(arr)\n",
    "print(\" \")\n",
    "print(arr2)"
   ]
  },
  {
   "cell_type": "markdown",
   "metadata": {},
   "source": [
    "# 11.Consider a given vector, how to add 1 to each element indexed by a second vector (be careful with repeated indices)? "
   ]
  },
  {
   "cell_type": "code",
   "execution_count": 13,
   "metadata": {},
   "outputs": [
    {
     "name": "stdout",
     "output_type": "stream",
     "text": [
      "[1. 1. 1. 1. 1. 1. 1. 1. 1. 1.]\n",
      "[1 0 3 8 7 0 7 6 1 1 2 0 9 4 3 3 2 6 6 7]\n",
      "[3 3 2 3 1 0 3 3 1 1]\n",
      "[4. 4. 3. 4. 2. 1. 4. 4. 2. 2.]\n"
     ]
    }
   ],
   "source": [
    "Z = np.ones(10)\n",
    "print(Z)\n",
    "I = np.random.randint(0,len(Z),20)\n",
    "Y = np.bincount(I, minlength=len(Z))\n",
    "Z += Y\n",
    "print(I)\n",
    "print(Y)\n",
    "print(Z)\n"
   ]
  },
  {
   "cell_type": "code",
   "execution_count": 14,
   "metadata": {},
   "outputs": [
    {
     "name": "stdout",
     "output_type": "stream",
     "text": [
      "[7. 7. 5. 7. 3. 1. 7. 7. 3. 3.]\n"
     ]
    }
   ],
   "source": [
    "np.add.at(Z, I, 1)\n",
    "print(Z)"
   ]
  },
  {
   "cell_type": "markdown",
   "metadata": {},
   "source": [
    "# 12.How to get the diagonal of a dot product?"
   ]
  },
  {
   "cell_type": "code",
   "execution_count": 23,
   "metadata": {},
   "outputs": [
    {
     "name": "stdout",
     "output_type": "stream",
     "text": [
      "[[0.76633913 0.93855596 0.38321432 0.53814094 0.77415727]\n",
      " [0.96254784 0.98134393 0.43142886 0.05599821 0.5262242 ]\n",
      " [0.16778054 0.02159276 0.63271768 0.46639695 0.64585116]\n",
      " [0.36032489 0.86941607 0.84932363 0.3467272  0.73365224]\n",
      " [0.29128384 0.40038137 0.30328879 0.44880149 0.23601464]]\n",
      "[[0.00619277 0.842362   0.56468439 0.35828875 0.01031251]\n",
      " [0.83783278 0.00869031 0.58078971 0.87436704 0.31747978]\n",
      " [0.96347159 0.54829949 0.66431652 0.77793143 0.48525072]\n",
      " [0.00516081 0.65561114 0.41931139 0.36790246 0.34673736]\n",
      " [0.49748489 0.96931575 0.08931892 0.03214396 0.30216496]]\n",
      "diagonal of a dot product method 2 is.... [1.32402635 1.39834683 1.57201802 1.98652817 1.87101273]\n"
     ]
    }
   ],
   "source": [
    "A = np.random.uniform(0,1,(5,5))\n",
    "B = np.random.uniform(0,1,(5,5))\n",
    "print(A)\n",
    "print(B)\n",
    "\n",
    "prod1=np.diag(np.dot(A, B))\n",
    "\n",
    "print(\"diagonal of a dot product method 2 is....\",prod2)"
   ]
  },
  {
   "cell_type": "markdown",
   "metadata": {},
   "source": [
    "# 13.How to find the most frequent value in an array?"
   ]
  },
  {
   "cell_type": "code",
   "execution_count": 24,
   "metadata": {},
   "outputs": [
    {
     "name": "stdout",
     "output_type": "stream",
     "text": [
      "[16 19  7 18 18  9 11  9 12  5 11  8 12  1 10  6  6 14 18 16]\n",
      "18\n"
     ]
    }
   ],
   "source": [
    "Z = np.random.randint(0,20,20)\n",
    "print(Z)\n",
    "print(np.bincount(Z).argmax())"
   ]
  },
  {
   "cell_type": "markdown",
   "metadata": {},
   "source": [
    "# 14.How to get the n largest values of an array"
   ]
  },
  {
   "cell_type": "code",
   "execution_count": 25,
   "metadata": {},
   "outputs": [
    {
     "name": "stdout",
     "output_type": "stream",
     "text": [
      "[4995 4996 4997 4998 4999]\n"
     ]
    }
   ],
   "source": [
    "x = np.arange(5000)\n",
    "np.random.shuffle(x)\n",
    "n = 5\n",
    "\n",
    "\n",
    "print (x[np.argsort(x)[-n:]])\n"
   ]
  },
  {
   "cell_type": "markdown",
   "metadata": {},
   "source": [
    "# 15.How to create a record array from a regular array?"
   ]
  },
  {
   "cell_type": "code",
   "execution_count": 26,
   "metadata": {},
   "outputs": [
    {
     "name": "stdout",
     "output_type": "stream",
     "text": [
      "[(b'Hello', 2.5, 3) (b'World', 3.6, 2)]\n"
     ]
    }
   ],
   "source": [
    "Z = np.array([(\"Hello\", 2.5, 3),\n",
    "              (\"World\", 3.6, 2)])\n",
    "R = np.core.records.fromarrays(Z.T,\n",
    "                               names='col1, col2, col3',\n",
    "                               formats = 'S8, f8, i8')\n",
    "print(R)"
   ]
  },
  {
   "cell_type": "code",
   "execution_count": null,
   "metadata": {},
   "outputs": [],
   "source": []
  },
  {
   "cell_type": "code",
   "execution_count": null,
   "metadata": {},
   "outputs": [],
   "source": []
  },
  {
   "cell_type": "code",
   "execution_count": null,
   "metadata": {},
   "outputs": [],
   "source": []
  }
 ],
 "metadata": {
  "kernelspec": {
   "display_name": "Python 3",
   "language": "python",
   "name": "python3"
  },
  "language_info": {
   "codemirror_mode": {
    "name": "ipython",
    "version": 3
   },
   "file_extension": ".py",
   "mimetype": "text/x-python",
   "name": "python",
   "nbconvert_exporter": "python",
   "pygments_lexer": "ipython3",
   "version": "3.7.6"
  }
 },
 "nbformat": 4,
 "nbformat_minor": 2
}
