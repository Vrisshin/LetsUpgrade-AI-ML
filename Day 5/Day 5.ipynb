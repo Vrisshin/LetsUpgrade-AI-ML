{
 "cells": [
  {
   "cell_type": "markdown",
   "metadata": {},
   "source": [
    "## question 1"
   ]
  },
  {
   "cell_type": "code",
   "execution_count": 88,
   "metadata": {},
   "outputs": [
    {
     "name": "stdout",
     "output_type": "stream",
     "text": [
      " 3   4   5   7   11   13   17   19   23   29   31   37   41   43   47   53   59   61   67   71  "
     ]
    }
   ],
   "source": [
    "Number = 3\n",
    "val = 0\n",
    "while(val <20):\n",
    "    count = 0\n",
    "    i = 3\n",
    "    \n",
    "    while(i <= Number//2):\n",
    "        if(Number % i == 0):\n",
    "            count = count + 1\n",
    "            break\n",
    "        i = i + 1\n",
    "\n",
    "    if (count == 0 and Number != 1):\n",
    "        print(\" %d\" %Number, end = '  ')\n",
    "        val = val + 1\n",
    "    Number = Number  + 1\n",
    "    "
   ]
  },
  {
   "cell_type": "markdown",
   "metadata": {},
   "source": [
    "## question 2"
   ]
  },
  {
   "cell_type": "code",
   "execution_count": 89,
   "metadata": {},
   "outputs": [
    {
     "name": "stdout",
     "output_type": "stream",
     "text": [
      "vrisshin\n"
     ]
    }
   ],
   "source": [
    "string = \"vrisshin\"\n",
    "print(string)"
   ]
  },
  {
   "cell_type": "code",
   "execution_count": 90,
   "metadata": {},
   "outputs": [
    {
     "name": "stdout",
     "output_type": "stream",
     "text": [
      "Vrisshin\n",
      "vrisshin\n",
      "2\n",
      "True\n",
      "False\n",
      "False\n",
      "True\n",
      "False\n",
      "VRISSHIN\n",
      "vrisshin\n",
      "VRISSHIN\n",
      "False\n",
      "False\n",
      "5\n",
      "False\n"
     ]
    }
   ],
   "source": [
    "print(string.capitalize())\n",
    "print(string.casefold())\n",
    "print(string.count(\"s\"))\n",
    "print(string.islower())\n",
    "print(string.isdecimal())\n",
    "print(string.isdigit())\n",
    "print(string.isprintable())\n",
    "print(string.isupper())\n",
    "print(string.upper())\n",
    "print(string.lower())\n",
    "print(string.swapcase())\n",
    "print(string.istitle())\n",
    "print(string.isnumeric())\n",
    "print(string.rfind(\"h\"))\n",
    "print(string.startswith(\"V\"))"
   ]
  },
  {
   "cell_type": "markdown",
   "metadata": {},
   "source": [
    "## question 3"
   ]
  },
  {
   "cell_type": "code",
   "execution_count": 120,
   "metadata": {},
   "outputs": [
    {
     "name": "stdout",
     "output_type": "stream",
     "text": [
      "fried  is not a palindrome\n",
      "fried and fired are an anagram\n"
     ]
    }
   ],
   "source": [
    "val=\"fried\" \n",
    "val_two=\"fired\"\n",
    "\n",
    "if val==val_two:\n",
    "    print(val,\" is a palindrome\")\n",
    "else :\n",
    "    print(val,\" is not a palindrome\")\n",
    "if (sorted(val)) == (sorted(val_two)):\n",
    "    print(val ,\"and\", val_two ,\"are an anagram\")    \n",
    "else:\n",
    "    print(val ,\"and\", val_two ,\"are not an anagram\")"
   ]
  },
  {
   "cell_type": "markdown",
   "metadata": {},
   "source": [
    "## question 4"
   ]
  },
  {
   "cell_type": "code",
   "execution_count": 135,
   "metadata": {},
   "outputs": [
    {
     "name": "stdout",
     "output_type": "stream",
     "text": [
      "drdarshaningleaimltrainer\n"
     ]
    }
   ],
   "source": [
    "val = \"Dr. Darshan Ingle@AI-ML Trainer\"\n",
    "val_2 = val.lower()\n",
    "val_3 = val_2.replace(\" \",\"\")\n",
    "val_4= val_3.replace(\".\",\"\")\n",
    "val_5 =val_4.replace(\"@\",\"\")\n",
    "val_6 = val_5.replace(\"-\",\"\")\n",
    "print(val_6)"
   ]
  },
  {
   "cell_type": "code",
   "execution_count": null,
   "metadata": {},
   "outputs": [],
   "source": []
  }
 ],
 "metadata": {
  "kernelspec": {
   "display_name": "Python 3",
   "language": "python",
   "name": "python3"
  },
  "language_info": {
   "codemirror_mode": {
    "name": "ipython",
    "version": 3
   },
   "file_extension": ".py",
   "mimetype": "text/x-python",
   "name": "python",
   "nbconvert_exporter": "python",
   "pygments_lexer": "ipython3",
   "version": "3.7.6"
  }
 },
 "nbformat": 4,
 "nbformat_minor": 4
}
