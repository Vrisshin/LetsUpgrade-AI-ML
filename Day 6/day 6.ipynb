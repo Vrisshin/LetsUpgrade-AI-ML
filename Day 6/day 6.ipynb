{
 "cells": [
  {
   "cell_type": "markdown",
   "metadata": {},
   "source": [
    "## Question 1"
   ]
  },
  {
   "cell_type": "code",
   "execution_count": 1,
   "metadata": {},
   "outputs": [
    {
     "name": "stdout",
     "output_type": "stream",
     "text": [
      "enter email address=vrisshin@google.com\n",
      "company name is  google\n"
     ]
    }
   ],
   "source": [
    "a = input(\"enter email address=\")\n",
    "b = a.find(\"@\")\n",
    "c= a.find (\".\")\n",
    "\n",
    "print(\"company name is \" ,a[b+1:c])"
   ]
  },
  {
   "cell_type": "markdown",
   "metadata": {},
   "source": [
    "## question2"
   ]
  },
  {
   "cell_type": "code",
   "execution_count": 16,
   "metadata": {},
   "outputs": [
    {
     "name": "stdout",
     "output_type": "stream",
     "text": [
      "without,hello,bag,world\n",
      "['bag', 'hello', 'without', 'world']\n"
     ]
    }
   ],
   "source": [
    "lst = input()\n",
    "lst_two= lst.split(\",\")\n",
    "lst_three=sorted(lst_two)\n",
    "print(lst_three)\n"
   ]
  },
  {
   "cell_type": "markdown",
   "metadata": {},
   "source": [
    "## question 3"
   ]
  },
  {
   "cell_type": "code",
   "execution_count": 33,
   "metadata": {},
   "outputs": [
    {
     "name": "stdout",
     "output_type": "stream",
     "text": [
      "{'orange', 'apple', 'banana'}\n",
      "{'orange', 'apple', 'papaya', 'banana'}\n",
      "{'apple', 'papaya', 'banana'}\n",
      "{'papaya', 'banana'}\n"
     ]
    }
   ],
   "source": [
    "set1 = {\"apple\",\"orange\",\"banana\"}\n",
    "print(set1)\n",
    "set1.add(\"papaya\")\n",
    "print(set1)\n",
    "set1.pop()\n",
    "print(set1)\n",
    "set1.remove(\"apple\")\n",
    "print(set1)\n"
   ]
  },
  {
   "cell_type": "code",
   "execution_count": 35,
   "metadata": {},
   "outputs": [
    {
     "data": {
      "text/plain": [
       "{1, 2}"
      ]
     },
     "execution_count": 35,
     "metadata": {},
     "output_type": "execute_result"
    }
   ],
   "source": [
    "set1={1,2,2,3,5,6}\n",
    "set2 ={1,10,2,8,222}\n",
    "set1.intersection(set2)"
   ]
  },
  {
   "cell_type": "markdown",
   "metadata": {},
   "source": [
    "## question4"
   ]
  },
  {
   "cell_type": "code",
   "execution_count": 27,
   "metadata": {},
   "outputs": [
    {
     "name": "stdout",
     "output_type": "stream",
     "text": [
      "the missing number is  5\n"
     ]
    }
   ],
   "source": [
    "lst = (1,2,3,4,6,7,8)\n",
    "a=1\n",
    "for i in lst:\n",
    "    if a in lst:\n",
    "        a=a+1\n",
    "        pass\n",
    "    else :\n",
    "        print(\"the missing number is \" ,a)\n",
    "        break\n",
    "        "
   ]
  },
  {
   "cell_type": "markdown",
   "metadata": {},
   "source": [
    "## question 5"
   ]
  },
  {
   "cell_type": "code",
   "execution_count": 72,
   "metadata": {},
   "outputs": [
    {
     "name": "stdout",
     "output_type": "stream",
     "text": [
      "['12', '24', '35', '88', '120', '155']\n"
     ]
    }
   ],
   "source": [
    "a = (\"12 24 35 24 88 120 155 88 120 155\")\n",
    "b = a.split()\n",
    "lst = dict.fromkeys(b)\n",
    "print(list(lst))\n"
   ]
  }
 ],
 "metadata": {
  "kernelspec": {
   "display_name": "Python 3",
   "language": "python",
   "name": "python3"
  },
  "language_info": {
   "codemirror_mode": {
    "name": "ipython",
    "version": 3
   },
   "file_extension": ".py",
   "mimetype": "text/x-python",
   "name": "python",
   "nbconvert_exporter": "python",
   "pygments_lexer": "ipython3",
   "version": "3.7.6"
  }
 },
 "nbformat": 4,
 "nbformat_minor": 4
}
